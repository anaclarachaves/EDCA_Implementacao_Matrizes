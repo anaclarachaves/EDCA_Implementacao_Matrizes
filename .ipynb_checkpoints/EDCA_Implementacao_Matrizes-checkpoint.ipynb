{
 "cells": [
  {
   "cell_type": "markdown",
   "metadata": {
    "id": "CMDbjrJXUpF9"
   },
   "source": [
    "# Trabalho de Multiplicação de Matrizes\n",
    "\n",
    "\n",
    "---\n",
    "\n",
    "\n",
    "### Universidade Federal da Paraíba | Programa de Pós-Graduação em Informática<br><br>\n",
    "#### Disciplina: Estrutura de Dados e Complexidade de Algoritmos\n",
    "#### Professor: Teobaldo Bulhões<br><br>\n",
    "\n",
    "#### Mestranda: Ana Clara Chaves Sousa\n",
    "#### Matrícula: 20211000294\n",
    "\n",
    "\n",
    "\n",
    "---\n",
    "\n"
   ]
  },
  {
   "cell_type": "markdown",
   "metadata": {
    "id": "jRdmBPguVuRb"
   },
   "source": [
    "# Descrição do Problema"
   ]
  },
  {
   "cell_type": "markdown",
   "metadata": {
    "id": "ZzlZw55-h6m5"
   },
   "source": [
    "Implementar e comparar dois algoritmos para o cálculo do\n",
    "produto AB, sendo A e B duas matrizes quadradas de ordem n: <br>\n",
    "\n",
    "1.   **Algoritmo “ingênuo”**, que consiste simplesmente em aplicar diretamente a definição do produto de matrizes;\n",
    "2.   e o **algoritmo de Strassen**, descrito no capítulo 4 do livro-texto.\n",
    "\n",
    "A comparação entre os dois algoritmos será na forma de um\n",
    "gráfico relativo a diversas execuções com matrizes aleatórias de ordens variáveis. Deverão ser utilizados os seguintes parâmetros, os quais serão especificados através de um arquivo de texto:<br>\n",
    "\n",
    "*   **kmax**:  expoente da potência de 2 correspondente ao máximo valor de n considerado, deve ser maior ou igual a 5;\n",
    "*   **r**: número de matrizes geradas para cada valor de n;\n",
    "*   **[amin, amax]**: intervalo ao qual os elementos das matrizes geradas devem pertencer. Todos os elementos devem ser números inteiros."
   ]
  },
  {
   "cell_type": "markdown",
   "metadata": {
    "id": "mMne-hR9jjkJ"
   },
   "source": [
    "### Entrada\n",
    "\n",
    "**Formato de entrada:** O formato esperado para o arquivo de entrada será ilustrado a partir do exemplo abaixo:\n",
    "\n",
    "*   kmax = 10;  \n",
    "*   r = 200;\n",
    "*   [amin, amax] = [150, 250];\n",
    "\n",
    "**Formato do arquivo:**<br>\n",
    "10<br>\n",
    "200<br>\n",
    "150 250\n",
    "\n",
    "\n",
    "\n",
    "\n"
   ]
  },
  {
   "cell_type": "markdown",
   "metadata": {
    "id": "tOzbJ9Tij82H"
   },
   "source": [
    "### Saída\n",
    "\n",
    "O programa deve gerar um gráfico que conterá uma curva para cada algoritmo.\n",
    "No **eixo das abscissas**, tem-se a ordem das matrizes; no **eixo das ordenadas**, o tempo computacional médio do algoritmo correspondente. Os valores de ordem considerados serão os seguintes: 2^5, 2^6, ..., 2^kmax."
   ]
  },
  {
   "cell_type": "markdown",
   "metadata": {
    "id": "rfqxyRdBVyqf"
   },
   "source": [
    "# Implementação"
   ]
  },
  {
   "cell_type": "code",
   "execution_count": 1,
   "metadata": {
    "id": "dLhC4lPRh9Fg"
   },
   "outputs": [],
   "source": [
    "# Importação das bibliotecas\n",
    "import random\n",
    "import time\n",
    "import pandas as pd"
   ]
  },
  {
   "cell_type": "markdown",
   "metadata": {
    "id": "YnBeoAM7-vMH"
   },
   "source": [
    "## Funções"
   ]
  },
  {
   "cell_type": "markdown",
   "metadata": {
    "id": "JKQpBeK3CmxQ"
   },
   "source": [
    "### Gerando as matrizes"
   ]
  },
  {
   "cell_type": "code",
   "execution_count": 2,
   "metadata": {
    "id": "vptxKyJLZkjx"
   },
   "outputs": [],
   "source": [
    "def gerar_matriz(n, a_min, a_max):\n",
    "  \"\"\" Função para gerar as matrizes de ordem n, com elementos dentro do \n",
    "  intervalo de [a_min, a_max] \"\"\"\n",
    "\n",
    "  # Criando listas para armazenar os elementos da matriz\n",
    "  elementos = []\n",
    "\n",
    "  # Gerando elementos para a matriz\n",
    "  for j in range(n): # Loop pelas colunas\n",
    "    linha_matriz = [] # Criando lista para as linhas da matriz\n",
    "\n",
    "    for i in range(n): # Loop pelas linhas\n",
    "      linha_matriz.append(random.randint(a_min, a_max)) # Gerando cada linha\n",
    "\n",
    "    # Juntando as linhas à lista completa de elementos\n",
    "    elementos.append(linha_matriz)\n",
    "  \n",
    "  # Função retorna os elementos\n",
    "  return elementos"
   ]
  },
  {
   "cell_type": "markdown",
   "metadata": {
    "id": "RhkvNI1_Cq6F"
   },
   "source": [
    "### Multiplicação Ingênua"
   ]
  },
  {
   "cell_type": "code",
   "execution_count": 3,
   "metadata": {
    "id": "VzDIUzhppRga"
   },
   "outputs": [],
   "source": [
    "def multiplicar_naive(matriz_A, matriz_B):\n",
    "  \"\"\" Multiplicação ingênua de duas matrizes A e B quadradas de ordem n \"\"\"\n",
    "\n",
    "  # Criando lista para a matriz resultado\n",
    "  resultado = []\n",
    "\n",
    "  # Loop nas linhas da matriz A\n",
    "  for k in range(0, len(matriz_A)): \n",
    "      linhas = [] # Criando uma lista para as linhas\n",
    "\n",
    "      for i in range(0, len(matriz_B[0])): # Loop nas colunas da matriz B\n",
    "          colunas = 0 # Atribuindo o valor 0 para as colunas\n",
    "\n",
    "          for j in range (0, len(matriz_B)): \n",
    "              colunas += matriz_A[k][j] * matriz_B[j][i] # Fazendo a multiplicação\n",
    "\n",
    "          linhas.append(colunas) # Unindo as linhas e as colunas\n",
    "      resultado.append(linhas) # Atribuindo ao resultado\n",
    "\n",
    "  # Retorna o resultado da multiplicação    \n",
    "  return resultado"
   ]
  },
  {
   "cell_type": "markdown",
   "metadata": {
    "id": "PPyqQTT8CtzM"
   },
   "source": [
    "### Algoritmo de Strassen"
   ]
  },
  {
   "cell_type": "markdown",
   "metadata": {
    "id": "buQ1WOkwjsXO"
   },
   "source": [
    "Como a ordem de N é na potência de 2, não será necessário se preocupar com o algoritmo nos casos em que n é ímpar."
   ]
  },
  {
   "cell_type": "code",
   "execution_count": 4,
   "metadata": {
    "id": "PYeDA_wpedgI"
   },
   "outputs": [],
   "source": [
    "def dividir_quadrante(matriz, quadrante):\n",
    "  \"\"\" Divisão das matrizes em quadrantes\n",
    "  1 2\n",
    "  3 4\n",
    "  \"\"\"\n",
    "  # Atribuindo n ao tamanho da matriz\n",
    "  n = len(matriz)\n",
    "\n",
    "  if quadrante == 1: # se está no primeiro quadrante\n",
    "    return [s[:n//2] for s in matriz[:n//2]]\n",
    "  if quadrante == 2: # se está no segundo quadrante\n",
    "    return [s[n//2:] for s in matriz[:n//2]]\n",
    "  if quadrante == 3: # se está no terceiro quadrante\n",
    "    return [s[:n//2] for s in matriz[n//2:]]\n",
    "  if quadrante == 4: # se está no último quadrante\n",
    "    return [s[n//2:] for s in matriz[n//2:]]"
   ]
  },
  {
   "cell_type": "code",
   "execution_count": 5,
   "metadata": {
    "id": "b9C7BQnDd8oF"
   },
   "outputs": [],
   "source": [
    "def somar_matriz(matriz_A, matriz_B):\n",
    "  \"\"\" Função para fazer a soma das matrizes ao aplicar o algoritmo de Strassen\n",
    "  \"\"\"\n",
    "  # Fazendo a lista do resultado da soma\n",
    "  matriz_somada = []\n",
    "\n",
    "  # Loop dentro da matriz, iterando os elementos de acordo com a sua posição\n",
    "  for i in range(len(matriz_A)):\n",
    "    matriz_somada.append([sum(x) for x in zip(*[matriz_A[i],matriz_B[i]])])\n",
    "  \n",
    "  # Retornando o resultado da soma\n",
    "  return matriz_somada"
   ]
  },
  {
   "cell_type": "code",
   "execution_count": 6,
   "metadata": {
    "id": "L0iGMEREku4y"
   },
   "outputs": [],
   "source": [
    "def subtrair_matriz(matriz_A, matriz_B):\n",
    "  \"\"\" Função para fazer a subtração das matrizes ao aplicar o algoritmo de Strassen\n",
    "  \"\"\"\n",
    "  # Criando a lista da subtração da matriz\n",
    "  matriz_sub = []\n",
    "\n",
    "  # Loop dentro da matriz, iterando elementos nas mesmas posições em A e B\n",
    "  for i in range(len(matriz_A)):\n",
    "    matriz_sub.append([x[0]-x[1] for x in zip(*[matriz_A[i],matriz_B[i]])])\n",
    "\n",
    "  # Retorna o resultado da subtração\n",
    "  return matriz_sub"
   ]
  },
  {
   "cell_type": "code",
   "execution_count": 7,
   "metadata": {
    "id": "_kB8D0LZdLJL"
   },
   "outputs": [],
   "source": [
    "def multiplicar_strassen(matriz_A, matriz_B):\n",
    "  \"\"\" Multiplicação das matrizes A e B n x n pelo algoritmo de Strassen\n",
    "  \"\"\"\n",
    "\n",
    "  # Atribuindo n ao tamanho da matriz A\n",
    "  n = len(matriz_A)\n",
    "\n",
    "  # No caso de n = 64, a recursão para e é utilizada a multiplicação naive\n",
    "  if n <= 64:\n",
    "    return multiplicar_naive(matriz_A, matriz_B)\n",
    "\n",
    "  # Submatriz 1 A e B\n",
    "  m1_a = somar_matriz(dividir_quadrante(matriz_A, 1), dividir_quadrante(matriz_A, 4))\n",
    "  m1_b = somar_matriz(dividir_quadrante(matriz_B, 1), dividir_quadrante(matriz_B, 4))\n",
    "\n",
    "  # Submatriz 2 A e B\n",
    "  m2_a = somar_matriz(dividir_quadrante(matriz_A, 3), dividir_quadrante(matriz_A, 4))\n",
    "  m2_b = dividir_quadrante(matriz_B, 1)\n",
    "\n",
    "  # Submatriz 3 A e B\n",
    "  m3_a = dividir_quadrante(matriz_A, 1)\n",
    "  m3_b = subtrair_matriz(dividir_quadrante(matriz_B, 2), dividir_quadrante(matriz_B, 4))\n",
    "\n",
    "  # Submatriz 4 A e B\n",
    "  m4_a = dividir_quadrante(matriz_A, 4)\n",
    "  m4_b = subtrair_matriz(dividir_quadrante(matriz_B, 3), dividir_quadrante(matriz_B, 1))\n",
    "\n",
    "  # Submatriz 5 A e B\n",
    "  m5_a = somar_matriz(dividir_quadrante(matriz_A, 1), dividir_quadrante(matriz_A, 2))\n",
    "  m5_b = dividir_quadrante(matriz_B, 4)\n",
    "\n",
    "  # Submatriz 6 A e B\n",
    "  m6_a = subtrair_matriz(dividir_quadrante(matriz_A, 3), dividir_quadrante(matriz_A, 1))\n",
    "  m6_b = somar_matriz(dividir_quadrante(matriz_B, 1), dividir_quadrante(matriz_B, 2))\n",
    "\n",
    "  # Submatriz 7 A e B\n",
    "  m7_a = subtrair_matriz(dividir_quadrante(matriz_A, 2), dividir_quadrante(matriz_A, 4))\n",
    "  m7_b = somar_matriz(dividir_quadrante(matriz_B, 3), dividir_quadrante(matriz_B, 4))\n",
    "\n",
    "  # Funções Recursivas para formar as matrizes 1 a 7\n",
    "  m1 = multiplicar_strassen(m1_a, m1_b)\n",
    "  m2 = multiplicar_strassen(m2_a, m2_b)\n",
    "  m3 = multiplicar_strassen(m3_a, m3_b)\n",
    "  m4 = multiplicar_strassen(m4_a, m4_b)\n",
    "  m5 = multiplicar_strassen(m5_a, m5_b)\n",
    "  m6 = multiplicar_strassen(m6_a, m6_b)\n",
    "  m7 = multiplicar_strassen(m7_a, m7_b)\n",
    "\n",
    "  # Elementos finais da matriz de resultado\n",
    "  c1 = somar_matriz(subtrair_matriz(somar_matriz(m1, m4), m5), m7)\n",
    "  c2 = somar_matriz(m3, m5)\n",
    "  c3 = somar_matriz(m2, m4)\n",
    "  c4 = somar_matriz(somar_matriz(subtrair_matriz(m1, m2), m3), m6)\n",
    "\n",
    "  no = len(c1)\n",
    "\n",
    "  # Criando lista para as linhas superiores da matriz\n",
    "  linhas_cima = []\n",
    "\n",
    "  # Loop para formar linhas superiores\n",
    "  for i in range(no):\n",
    "    linhas_cima.append(c1[i]+c2[i])\n",
    "\n",
    "  # Criando lista para as linhas inferiores da matriz\n",
    "  linhas_baixo = []\n",
    "\n",
    "  # Loop para formar linhas inferiores\n",
    "  for i in range(no):\n",
    "    linhas_baixo.append(c3[i]+c4[i])\n",
    "\n",
    "  # Soma as linhas das matrizes (c1 e c2, c3 e c4)\n",
    "  matriz_saida = linhas_cima + linhas_baixo\n",
    "\n",
    "  # Retorna o resultado da multiplicação\n",
    "  return matriz_saida"
   ]
  },
  {
   "cell_type": "markdown",
   "metadata": {
    "id": "K-DV_gl4orUx"
   },
   "source": [
    "### Informações para o gráfico (output)"
   ]
  },
  {
   "cell_type": "code",
   "execution_count": 8,
   "metadata": {
    "id": "VE1yppOGoxkO"
   },
   "outputs": [],
   "source": [
    "def grafico():\n",
    "\n",
    "  # Acertando o tamanho da ordem das matrizes num range de 2^5 até 2^kmax\n",
    "  input_size = [2 ** i for i in range(5, k_max+1)]\n",
    "  # Criando uma tabela para gerar o output em .csv posteriormente\n",
    "  tabela = pd.DataFrame(index=[], columns=['Ordem_Matriz', 'r','Duracao_Naive','Duracao_Strassen'])\n",
    "\n",
    "  for size in input_size: # Loop entre as n ordens das matrizes\n",
    "    for j in range(r): # Loop para rodar r vezes \n",
    "\n",
    "      # Gerando as matrizes\n",
    "      matriz_A = gerar_matriz(size, a_min, a_max)\n",
    "      matriz_B = gerar_matriz(size, a_min, a_max)\n",
    "\n",
    "      # Calculando running time e executando a multiplicação naive \n",
    "      start_time = 0\n",
    "      start_time = time.time()\n",
    "      resultado_naive = multiplicar_naive(matriz_A, matriz_B)\n",
    "      naive_duracao = time.time() - start_time\n",
    "\n",
    "      # Calculando running time e executando a multiplicação strassen \n",
    "      start_time = 0\n",
    "      start_time = time.time()\n",
    "      resultado_strassen = multiplicar_strassen(matriz_A, matriz_B)\n",
    "      strassen_duracao = time.time() - start_time\n",
    "\n",
    "      # Guardando as informações de duração dos algoritmos\n",
    "      tempo = pd.Series([\n",
    "              size,\n",
    "              r,\n",
    "              naive_duracao,\n",
    "              strassen_duracao\n",
    "              ], index=['Ordem_Matriz','r', 'Duracao_Naive','Duracao_Strassen'])\n",
    "\n",
    "      # Exportando a tabela com os resultados\n",
    "      tabela = tabela.append(tempo, ignore_index = True)\n",
    "      tabela.to_csv('contagem_tempo.csv', index = False)\n",
    "  return tabela "
   ]
  },
  {
   "cell_type": "markdown",
   "metadata": {
    "id": "HPGalx4hHbcO"
   },
   "source": [
    "## Fazendo leitura do arquivo de entrada"
   ]
  },
  {
   "cell_type": "code",
   "execution_count": 9,
   "metadata": {
    "colab": {
     "base_uri": "https://localhost:8080/"
    },
    "id": "B62HDP2MFFIq",
    "outputId": "da4acf4f-2033-461b-ebb0-ef5d70212128"
   },
   "outputs": [
    {
     "name": "stdout",
     "output_type": "stream",
     "text": [
      "[11, 8, 29, 91]\n"
     ]
    }
   ],
   "source": [
    "# Criando uma lista para guardar os números do arquivo de entrada\n",
    "entrada = []\n",
    "\n",
    "# Abrindo o arquivo\n",
    "with open('entrada_edca.txt') as arquivo:\n",
    "\n",
    "    for line in arquivo: # Loop entre as linhas\n",
    "      for item in line.split(): # Loop por cada item\n",
    "        entrada.extend([int(item)]) # Guardando o número na lista\n",
    "\n",
    "# Printando os números do arquivo de entrada\n",
    "print(entrada)"
   ]
  },
  {
   "cell_type": "markdown",
   "metadata": {
    "id": "KYJczRvSROMQ"
   },
   "source": [
    "Pela entrada, temos que:<br>\n",
    "kmax = 11<br>\n",
    "r = 8<br>\n",
    "[amin, amax] = [29, 91]"
   ]
  },
  {
   "cell_type": "code",
   "execution_count": 10,
   "metadata": {
    "id": "bsJps4-aG1nw"
   },
   "outputs": [],
   "source": [
    "# Atribuindo os parâmetros às variáveis\n",
    "k_max = entrada[0]\n",
    "r = entrada[1]\n",
    "a_min = entrada[2]\n",
    "a_max = entrada[3]"
   ]
  },
  {
   "cell_type": "markdown",
   "metadata": {
    "id": "srCd6yehHgnT"
   },
   "source": [
    "## Utilizando as funções e gerando o output"
   ]
  },
  {
   "cell_type": "code",
   "execution_count": 11,
   "metadata": {
    "id": "v83RapVDu0kf"
   },
   "outputs": [],
   "source": [
    "# Rodando a função do gráfico, que puxa as informações de todas as outras funções\n",
    "if __name__ == \"__main__\":\n",
    "    dados_grafico = grafico()"
   ]
  },
  {
   "cell_type": "code",
   "execution_count": 12,
   "metadata": {
    "id": "S-1EScLhvNFf"
   },
   "outputs": [],
   "source": [
    "# Fazendo a leitura do csv gerado com as informações de duração\n",
    "dados = pd.read_csv('contagem_tempo.csv')"
   ]
  },
  {
   "cell_type": "code",
   "execution_count": 13,
   "metadata": {
    "id": "bwbKw4JYvVUz"
   },
   "outputs": [
    {
     "data": {
      "text/html": [
       "<div>\n",
       "<style scoped>\n",
       "    .dataframe tbody tr th:only-of-type {\n",
       "        vertical-align: middle;\n",
       "    }\n",
       "\n",
       "    .dataframe tbody tr th {\n",
       "        vertical-align: top;\n",
       "    }\n",
       "\n",
       "    .dataframe thead th {\n",
       "        text-align: right;\n",
       "    }\n",
       "</style>\n",
       "<table border=\"1\" class=\"dataframe\">\n",
       "  <thead>\n",
       "    <tr style=\"text-align: right;\">\n",
       "      <th></th>\n",
       "      <th>Ordem_Matriz</th>\n",
       "      <th>r</th>\n",
       "      <th>Duracao_Naive</th>\n",
       "      <th>Duracao_Strassen</th>\n",
       "    </tr>\n",
       "  </thead>\n",
       "  <tbody>\n",
       "    <tr>\n",
       "      <th>0</th>\n",
       "      <td>32.0</td>\n",
       "      <td>8.0</td>\n",
       "      <td>0.008468</td>\n",
       "      <td>0.014806</td>\n",
       "    </tr>\n",
       "    <tr>\n",
       "      <th>1</th>\n",
       "      <td>32.0</td>\n",
       "      <td>8.0</td>\n",
       "      <td>0.013299</td>\n",
       "      <td>0.014623</td>\n",
       "    </tr>\n",
       "    <tr>\n",
       "      <th>2</th>\n",
       "      <td>32.0</td>\n",
       "      <td>8.0</td>\n",
       "      <td>0.017664</td>\n",
       "      <td>0.020628</td>\n",
       "    </tr>\n",
       "    <tr>\n",
       "      <th>3</th>\n",
       "      <td>32.0</td>\n",
       "      <td>8.0</td>\n",
       "      <td>0.022514</td>\n",
       "      <td>0.023411</td>\n",
       "    </tr>\n",
       "    <tr>\n",
       "      <th>4</th>\n",
       "      <td>32.0</td>\n",
       "      <td>8.0</td>\n",
       "      <td>0.019744</td>\n",
       "      <td>0.022651</td>\n",
       "    </tr>\n",
       "    <tr>\n",
       "      <th>5</th>\n",
       "      <td>32.0</td>\n",
       "      <td>8.0</td>\n",
       "      <td>0.013888</td>\n",
       "      <td>0.009871</td>\n",
       "    </tr>\n",
       "    <tr>\n",
       "      <th>6</th>\n",
       "      <td>32.0</td>\n",
       "      <td>8.0</td>\n",
       "      <td>0.013683</td>\n",
       "      <td>0.007773</td>\n",
       "    </tr>\n",
       "    <tr>\n",
       "      <th>7</th>\n",
       "      <td>32.0</td>\n",
       "      <td>8.0</td>\n",
       "      <td>0.013624</td>\n",
       "      <td>0.014062</td>\n",
       "    </tr>\n",
       "    <tr>\n",
       "      <th>8</th>\n",
       "      <td>64.0</td>\n",
       "      <td>8.0</td>\n",
       "      <td>0.139237</td>\n",
       "      <td>0.165291</td>\n",
       "    </tr>\n",
       "    <tr>\n",
       "      <th>9</th>\n",
       "      <td>64.0</td>\n",
       "      <td>8.0</td>\n",
       "      <td>0.095399</td>\n",
       "      <td>0.107208</td>\n",
       "    </tr>\n",
       "    <tr>\n",
       "      <th>10</th>\n",
       "      <td>64.0</td>\n",
       "      <td>8.0</td>\n",
       "      <td>0.092293</td>\n",
       "      <td>0.171814</td>\n",
       "    </tr>\n",
       "    <tr>\n",
       "      <th>11</th>\n",
       "      <td>64.0</td>\n",
       "      <td>8.0</td>\n",
       "      <td>0.203790</td>\n",
       "      <td>0.200758</td>\n",
       "    </tr>\n",
       "    <tr>\n",
       "      <th>12</th>\n",
       "      <td>64.0</td>\n",
       "      <td>8.0</td>\n",
       "      <td>0.151405</td>\n",
       "      <td>0.119262</td>\n",
       "    </tr>\n",
       "    <tr>\n",
       "      <th>13</th>\n",
       "      <td>64.0</td>\n",
       "      <td>8.0</td>\n",
       "      <td>0.183364</td>\n",
       "      <td>0.138489</td>\n",
       "    </tr>\n",
       "    <tr>\n",
       "      <th>14</th>\n",
       "      <td>64.0</td>\n",
       "      <td>8.0</td>\n",
       "      <td>0.141444</td>\n",
       "      <td>0.100111</td>\n",
       "    </tr>\n",
       "    <tr>\n",
       "      <th>15</th>\n",
       "      <td>64.0</td>\n",
       "      <td>8.0</td>\n",
       "      <td>0.099958</td>\n",
       "      <td>0.094459</td>\n",
       "    </tr>\n",
       "    <tr>\n",
       "      <th>16</th>\n",
       "      <td>128.0</td>\n",
       "      <td>8.0</td>\n",
       "      <td>1.248268</td>\n",
       "      <td>0.967377</td>\n",
       "    </tr>\n",
       "    <tr>\n",
       "      <th>17</th>\n",
       "      <td>128.0</td>\n",
       "      <td>8.0</td>\n",
       "      <td>1.101440</td>\n",
       "      <td>0.850119</td>\n",
       "    </tr>\n",
       "    <tr>\n",
       "      <th>18</th>\n",
       "      <td>128.0</td>\n",
       "      <td>8.0</td>\n",
       "      <td>0.779980</td>\n",
       "      <td>0.953271</td>\n",
       "    </tr>\n",
       "    <tr>\n",
       "      <th>19</th>\n",
       "      <td>128.0</td>\n",
       "      <td>8.0</td>\n",
       "      <td>1.003713</td>\n",
       "      <td>0.625523</td>\n",
       "    </tr>\n",
       "    <tr>\n",
       "      <th>20</th>\n",
       "      <td>128.0</td>\n",
       "      <td>8.0</td>\n",
       "      <td>1.037877</td>\n",
       "      <td>0.734213</td>\n",
       "    </tr>\n",
       "    <tr>\n",
       "      <th>21</th>\n",
       "      <td>128.0</td>\n",
       "      <td>8.0</td>\n",
       "      <td>0.904598</td>\n",
       "      <td>0.923946</td>\n",
       "    </tr>\n",
       "    <tr>\n",
       "      <th>22</th>\n",
       "      <td>128.0</td>\n",
       "      <td>8.0</td>\n",
       "      <td>0.940923</td>\n",
       "      <td>0.942554</td>\n",
       "    </tr>\n",
       "    <tr>\n",
       "      <th>23</th>\n",
       "      <td>128.0</td>\n",
       "      <td>8.0</td>\n",
       "      <td>1.013872</td>\n",
       "      <td>1.022828</td>\n",
       "    </tr>\n",
       "    <tr>\n",
       "      <th>24</th>\n",
       "      <td>256.0</td>\n",
       "      <td>8.0</td>\n",
       "      <td>5.500205</td>\n",
       "      <td>4.716772</td>\n",
       "    </tr>\n",
       "    <tr>\n",
       "      <th>25</th>\n",
       "      <td>256.0</td>\n",
       "      <td>8.0</td>\n",
       "      <td>6.782428</td>\n",
       "      <td>4.185628</td>\n",
       "    </tr>\n",
       "    <tr>\n",
       "      <th>26</th>\n",
       "      <td>256.0</td>\n",
       "      <td>8.0</td>\n",
       "      <td>5.968805</td>\n",
       "      <td>5.334114</td>\n",
       "    </tr>\n",
       "    <tr>\n",
       "      <th>27</th>\n",
       "      <td>256.0</td>\n",
       "      <td>8.0</td>\n",
       "      <td>6.892843</td>\n",
       "      <td>2.648817</td>\n",
       "    </tr>\n",
       "    <tr>\n",
       "      <th>28</th>\n",
       "      <td>256.0</td>\n",
       "      <td>8.0</td>\n",
       "      <td>4.416029</td>\n",
       "      <td>3.781215</td>\n",
       "    </tr>\n",
       "    <tr>\n",
       "      <th>29</th>\n",
       "      <td>256.0</td>\n",
       "      <td>8.0</td>\n",
       "      <td>4.672338</td>\n",
       "      <td>2.905129</td>\n",
       "    </tr>\n",
       "    <tr>\n",
       "      <th>30</th>\n",
       "      <td>256.0</td>\n",
       "      <td>8.0</td>\n",
       "      <td>3.724230</td>\n",
       "      <td>3.053833</td>\n",
       "    </tr>\n",
       "    <tr>\n",
       "      <th>31</th>\n",
       "      <td>256.0</td>\n",
       "      <td>8.0</td>\n",
       "      <td>3.886064</td>\n",
       "      <td>2.458515</td>\n",
       "    </tr>\n",
       "    <tr>\n",
       "      <th>32</th>\n",
       "      <td>512.0</td>\n",
       "      <td>8.0</td>\n",
       "      <td>27.618813</td>\n",
       "      <td>18.138854</td>\n",
       "    </tr>\n",
       "    <tr>\n",
       "      <th>33</th>\n",
       "      <td>512.0</td>\n",
       "      <td>8.0</td>\n",
       "      <td>23.852481</td>\n",
       "      <td>16.781059</td>\n",
       "    </tr>\n",
       "    <tr>\n",
       "      <th>34</th>\n",
       "      <td>512.0</td>\n",
       "      <td>8.0</td>\n",
       "      <td>24.005688</td>\n",
       "      <td>16.774645</td>\n",
       "    </tr>\n",
       "    <tr>\n",
       "      <th>35</th>\n",
       "      <td>512.0</td>\n",
       "      <td>8.0</td>\n",
       "      <td>23.840055</td>\n",
       "      <td>16.789647</td>\n",
       "    </tr>\n",
       "    <tr>\n",
       "      <th>36</th>\n",
       "      <td>512.0</td>\n",
       "      <td>8.0</td>\n",
       "      <td>24.063919</td>\n",
       "      <td>16.856600</td>\n",
       "    </tr>\n",
       "    <tr>\n",
       "      <th>37</th>\n",
       "      <td>512.0</td>\n",
       "      <td>8.0</td>\n",
       "      <td>23.583272</td>\n",
       "      <td>16.942854</td>\n",
       "    </tr>\n",
       "    <tr>\n",
       "      <th>38</th>\n",
       "      <td>512.0</td>\n",
       "      <td>8.0</td>\n",
       "      <td>24.351627</td>\n",
       "      <td>16.856015</td>\n",
       "    </tr>\n",
       "    <tr>\n",
       "      <th>39</th>\n",
       "      <td>512.0</td>\n",
       "      <td>8.0</td>\n",
       "      <td>34.640764</td>\n",
       "      <td>19.716743</td>\n",
       "    </tr>\n",
       "    <tr>\n",
       "      <th>40</th>\n",
       "      <td>1024.0</td>\n",
       "      <td>8.0</td>\n",
       "      <td>208.251588</td>\n",
       "      <td>120.446288</td>\n",
       "    </tr>\n",
       "    <tr>\n",
       "      <th>41</th>\n",
       "      <td>1024.0</td>\n",
       "      <td>8.0</td>\n",
       "      <td>230.190986</td>\n",
       "      <td>135.760645</td>\n",
       "    </tr>\n",
       "    <tr>\n",
       "      <th>42</th>\n",
       "      <td>1024.0</td>\n",
       "      <td>8.0</td>\n",
       "      <td>224.352550</td>\n",
       "      <td>134.333127</td>\n",
       "    </tr>\n",
       "    <tr>\n",
       "      <th>43</th>\n",
       "      <td>1024.0</td>\n",
       "      <td>8.0</td>\n",
       "      <td>223.942154</td>\n",
       "      <td>136.831514</td>\n",
       "    </tr>\n",
       "    <tr>\n",
       "      <th>44</th>\n",
       "      <td>1024.0</td>\n",
       "      <td>8.0</td>\n",
       "      <td>222.569885</td>\n",
       "      <td>127.805733</td>\n",
       "    </tr>\n",
       "    <tr>\n",
       "      <th>45</th>\n",
       "      <td>1024.0</td>\n",
       "      <td>8.0</td>\n",
       "      <td>198.129742</td>\n",
       "      <td>118.551160</td>\n",
       "    </tr>\n",
       "    <tr>\n",
       "      <th>46</th>\n",
       "      <td>1024.0</td>\n",
       "      <td>8.0</td>\n",
       "      <td>198.495679</td>\n",
       "      <td>118.849229</td>\n",
       "    </tr>\n",
       "    <tr>\n",
       "      <th>47</th>\n",
       "      <td>1024.0</td>\n",
       "      <td>8.0</td>\n",
       "      <td>197.146289</td>\n",
       "      <td>118.384170</td>\n",
       "    </tr>\n",
       "    <tr>\n",
       "      <th>48</th>\n",
       "      <td>2048.0</td>\n",
       "      <td>8.0</td>\n",
       "      <td>1606.825773</td>\n",
       "      <td>842.350977</td>\n",
       "    </tr>\n",
       "    <tr>\n",
       "      <th>49</th>\n",
       "      <td>2048.0</td>\n",
       "      <td>8.0</td>\n",
       "      <td>1605.570516</td>\n",
       "      <td>842.662505</td>\n",
       "    </tr>\n",
       "    <tr>\n",
       "      <th>50</th>\n",
       "      <td>2048.0</td>\n",
       "      <td>8.0</td>\n",
       "      <td>1610.237511</td>\n",
       "      <td>844.552824</td>\n",
       "    </tr>\n",
       "    <tr>\n",
       "      <th>51</th>\n",
       "      <td>2048.0</td>\n",
       "      <td>8.0</td>\n",
       "      <td>1610.009192</td>\n",
       "      <td>844.548004</td>\n",
       "    </tr>\n",
       "    <tr>\n",
       "      <th>52</th>\n",
       "      <td>2048.0</td>\n",
       "      <td>8.0</td>\n",
       "      <td>1608.852181</td>\n",
       "      <td>846.688624</td>\n",
       "    </tr>\n",
       "    <tr>\n",
       "      <th>53</th>\n",
       "      <td>2048.0</td>\n",
       "      <td>8.0</td>\n",
       "      <td>1628.259524</td>\n",
       "      <td>847.474972</td>\n",
       "    </tr>\n",
       "    <tr>\n",
       "      <th>54</th>\n",
       "      <td>2048.0</td>\n",
       "      <td>8.0</td>\n",
       "      <td>1611.050241</td>\n",
       "      <td>847.683666</td>\n",
       "    </tr>\n",
       "    <tr>\n",
       "      <th>55</th>\n",
       "      <td>2048.0</td>\n",
       "      <td>8.0</td>\n",
       "      <td>1610.855623</td>\n",
       "      <td>844.837705</td>\n",
       "    </tr>\n",
       "  </tbody>\n",
       "</table>\n",
       "</div>"
      ],
      "text/plain": [
       "    Ordem_Matriz    r  Duracao_Naive  Duracao_Strassen\n",
       "0           32.0  8.0       0.008468          0.014806\n",
       "1           32.0  8.0       0.013299          0.014623\n",
       "2           32.0  8.0       0.017664          0.020628\n",
       "3           32.0  8.0       0.022514          0.023411\n",
       "4           32.0  8.0       0.019744          0.022651\n",
       "5           32.0  8.0       0.013888          0.009871\n",
       "6           32.0  8.0       0.013683          0.007773\n",
       "7           32.0  8.0       0.013624          0.014062\n",
       "8           64.0  8.0       0.139237          0.165291\n",
       "9           64.0  8.0       0.095399          0.107208\n",
       "10          64.0  8.0       0.092293          0.171814\n",
       "11          64.0  8.0       0.203790          0.200758\n",
       "12          64.0  8.0       0.151405          0.119262\n",
       "13          64.0  8.0       0.183364          0.138489\n",
       "14          64.0  8.0       0.141444          0.100111\n",
       "15          64.0  8.0       0.099958          0.094459\n",
       "16         128.0  8.0       1.248268          0.967377\n",
       "17         128.0  8.0       1.101440          0.850119\n",
       "18         128.0  8.0       0.779980          0.953271\n",
       "19         128.0  8.0       1.003713          0.625523\n",
       "20         128.0  8.0       1.037877          0.734213\n",
       "21         128.0  8.0       0.904598          0.923946\n",
       "22         128.0  8.0       0.940923          0.942554\n",
       "23         128.0  8.0       1.013872          1.022828\n",
       "24         256.0  8.0       5.500205          4.716772\n",
       "25         256.0  8.0       6.782428          4.185628\n",
       "26         256.0  8.0       5.968805          5.334114\n",
       "27         256.0  8.0       6.892843          2.648817\n",
       "28         256.0  8.0       4.416029          3.781215\n",
       "29         256.0  8.0       4.672338          2.905129\n",
       "30         256.0  8.0       3.724230          3.053833\n",
       "31         256.0  8.0       3.886064          2.458515\n",
       "32         512.0  8.0      27.618813         18.138854\n",
       "33         512.0  8.0      23.852481         16.781059\n",
       "34         512.0  8.0      24.005688         16.774645\n",
       "35         512.0  8.0      23.840055         16.789647\n",
       "36         512.0  8.0      24.063919         16.856600\n",
       "37         512.0  8.0      23.583272         16.942854\n",
       "38         512.0  8.0      24.351627         16.856015\n",
       "39         512.0  8.0      34.640764         19.716743\n",
       "40        1024.0  8.0     208.251588        120.446288\n",
       "41        1024.0  8.0     230.190986        135.760645\n",
       "42        1024.0  8.0     224.352550        134.333127\n",
       "43        1024.0  8.0     223.942154        136.831514\n",
       "44        1024.0  8.0     222.569885        127.805733\n",
       "45        1024.0  8.0     198.129742        118.551160\n",
       "46        1024.0  8.0     198.495679        118.849229\n",
       "47        1024.0  8.0     197.146289        118.384170\n",
       "48        2048.0  8.0    1606.825773        842.350977\n",
       "49        2048.0  8.0    1605.570516        842.662505\n",
       "50        2048.0  8.0    1610.237511        844.552824\n",
       "51        2048.0  8.0    1610.009192        844.548004\n",
       "52        2048.0  8.0    1608.852181        846.688624\n",
       "53        2048.0  8.0    1628.259524        847.474972\n",
       "54        2048.0  8.0    1611.050241        847.683666\n",
       "55        2048.0  8.0    1610.855623        844.837705"
      ]
     },
     "execution_count": 13,
     "metadata": {},
     "output_type": "execute_result"
    }
   ],
   "source": [
    "# Visualizando o resultado\n",
    "dados"
   ]
  },
  {
   "cell_type": "code",
   "execution_count": 14,
   "metadata": {
    "id": "A9wlYuVMva3b"
   },
   "outputs": [
    {
     "data": {
      "text/plain": [
       "(56, 4)"
      ]
     },
     "execution_count": 14,
     "metadata": {},
     "output_type": "execute_result"
    }
   ],
   "source": [
    "# Visualizando o tamanho do dataframe gerado\n",
    "dados.shape"
   ]
  },
  {
   "cell_type": "code",
   "execution_count": 15,
   "metadata": {
    "id": "CFqLuTTOMlOx"
   },
   "outputs": [],
   "source": [
    "# Utilizando a função groupby para pegar as médias para cada ordem\n",
    "medias = dados.groupby(['Ordem_Matriz']).mean()"
   ]
  },
  {
   "cell_type": "code",
   "execution_count": 16,
   "metadata": {
    "id": "MgngvqRPM6yR"
   },
   "outputs": [],
   "source": [
    "# Convertendo a série para dataframe\n",
    "medias = medias.add_suffix('_Media').reset_index()"
   ]
  },
  {
   "cell_type": "code",
   "execution_count": 17,
   "metadata": {
    "id": "jaa1E0V5NiES"
   },
   "outputs": [],
   "source": [
    "# Dropando a coluna que não será utilizada\n",
    "medias = medias.drop(columns=['r_Media'])"
   ]
  },
  {
   "cell_type": "code",
   "execution_count": 18,
   "metadata": {
    "id": "DtlE5tJC0Or7"
   },
   "outputs": [
    {
     "data": {
      "text/plain": [
       "<matplotlib.legend.Legend at 0x2096a8c9ca0>"
      ]
     },
     "execution_count": 18,
     "metadata": {},
     "output_type": "execute_result"
    },
    {
     "data": {
      "image/png": "[encoded data removed]",
      "text/plain": [
       "<Figure size 576x576 with 1 Axes>"
      ]
     },
     "metadata": {
      "needs_background": "light"
     },
     "output_type": "display_data"
    }
   ],
   "source": [
    "# Desenhando o gráfico - OUTPUT DO PROGRAMA\n",
    "ax = medias.plot(x='Ordem_Matriz', title = 'Comparação dos Algoritmos', figsize = (8,8))\n",
    "ax.set_xlabel(\"Ordem da Matriz\")\n",
    "ax.set_ylabel(\"Duração (s)\")\n",
    "ax.legend()"
   ]
  }
 ],
 "metadata": {
  "colab": {
   "collapsed_sections": [],
   "name": "EDCA_Implementacao_Matrizes.ipynb",
   "provenance": []
  },
  "kernelspec": {
   "display_name": "Python 3",
   "language": "python",
   "name": "python3"
  },
  "language_info": {
   "codemirror_mode": {
    "name": "ipython",
    "version": 3
   },
   "file_extension": ".py",
   "mimetype": "text/x-python",
   "name": "python",
   "nbconvert_exporter": "python",
   "pygments_lexer": "ipython3",
   "version": "3.8.5"
  }
 },
 "nbformat": 4,
 "nbformat_minor": 1
}
